{
 "cells": [
  {
   "cell_type": "markdown",
   "id": "f9d4f2aa",
   "metadata": {},
   "source": [
    "# Um-modelo-de-Machine-Learning-para-Deteccao-de-Fraudes-em-Cartao-de-Credito"
   ]
  },
  {
   "cell_type": "markdown",
   "id": "0b1857de",
   "metadata": {},
   "source": [
    "## Este trabalho é meu projeto de TCC para o curso de Tecnoligia em Sistemas de Computação"
   ]
  },
  {
   "cell_type": "markdown",
   "id": "61d647f5",
   "metadata": {},
   "source": [
    "### Introdução"
   ]
  },
  {
   "cell_type": "markdown",
   "id": "b34c1667",
   "metadata": {},
   "source": [
    "O uso crescente de cartões de crédito em transações financeiras, especialmente online, tem levado a um aumento nas fraudes, resultando em prejuízos significativos para clientes e empresas. Nesse contexto, a ciência de dados oferece uma abordagem promissora para a detecção de fraudes em transações de cartão de crédito. Este trabalho tem como objetivo desenvolver um modelo de detecção de fraudes utilizando dados reais disponibilizados pelo Kaggle, por meio de técnicas de ciência de dados. Será realizada uma análise exploratória dos dados, seguida pelo desenvolvimento e avaliação de diferentes modelos preditivos para aumentar a eficiência e eficácia na detecção de fraudes."
   ]
  },
  {
   "cell_type": "markdown",
   "id": "2d70fa78",
   "metadata": {},
   "source": [
    "### Etapas do projeto"
   ]
  },
  {
   "cell_type": "markdown",
   "id": "7941de00",
   "metadata": {},
   "source": [
    "1. Coleta de dados: coletar os dados reais de transações de cartão de crédito disponibilizados pelo Kaggle. \n",
    "\n",
    "2. Análise exploratória de dados: realizar uma análise exploratória dos dados para entender a distribuição das variáveis, verificar valores faltantes, outliers, correlação entre as variáveis, etc. \n",
    "\n",
    "3. Pré-processamento de dados: realizar o pré-processamento dos dados, incluindo a limpeza, transformação e seleção de características. \n",
    "\n",
    "4. Balanceamento de dados: como os dados estão desbalanceados, aplicar técnicas de balanceamento de dados, como o SMOTE, para criar um conjunto de dados equilibrado. \n",
    "\n",
    "5. Seleção de modelo: escolher o modelo de aprendizado de máquina apropriado para o problema de detecção de fraude. \n",
    "\n",
    "6. Treinamento e ajuste: dividir os dados em conjuntos de treinamento e teste, treinar o modelo e ajustar. \n",
    "\n",
    "7. Avaliação do modelo: avaliar o desempenho do modelo usando métricas de avaliação, como precisão, recall, F1-score. \n",
    "\n",
    "8. Interpretação do modelo: interpretar o modelo treinado para entender quais recursos são mais importantes na detecção de fraudes de cartão de crédito. \n",
    "\n",
    "9. Conclusão e recomendações: concluir a pesquisa com uma síntese dos resultados obtidos e recomendações para futuros trabalhos na área. "
   ]
  },
  {
   "cell_type": "markdown",
   "id": "761f2231",
   "metadata": {},
   "source": [
    "### Importando as Bibliotecas utéis"
   ]
  },
  {
   "cell_type": "markdown",
   "id": "b52bbfe1",
   "metadata": {},
   "source": [
    "Importar bibliotecas em Python é uma etapa essencial em muitos projetos de programação, especialmente na ciência de dados e na análise de dados. Uma biblioteca é um conjunto de módulos ou pacotes de software que contém funções e métodos pré-definidos para realizar tarefas específicas.\n",
    "\n",
    "- A biblioteca 'os' fornece uma maneira de interagir com o sistema operacional, permitindo que você acesse recursos como diretórios, arquivos e variáveis de ambiente.\n",
    "\n",
    "- A biblioteca 'pandas' é uma biblioteca de análise de dados que fornece uma estrutura de dados chamada DataFrames, que é útil para trabalhar com conjuntos de dados tabulares. Ela também fornece uma ampla variedade de ferramentas para manipular, analisar e visualizar dados.\n",
    "\n",
    "- A biblioteca 'seaborn' é uma biblioteca de visualização de dados baseada em matplotlib. Ela fornece uma interface de alto nível para criar gráficos estatísticos atraentes e informativos.\n",
    "\n",
    "- A biblioteca 'matplotlib' é uma biblioteca de visualização de dados em Python. Ela permite que você crie gráficos em 2D e 3D de alta qualidade, incluindo gráficos de linhas, barras, histogramas e muito mais.\n",
    "\n",
    "- A partir da biblioteca 'sklearn' (também conhecida como scikit-learn), importamos as classes train_test_split e RandomForestClassifier para construir um modelo de classificação usando o algoritmo Random Forest. O train_test_split é uma função que divide um conjunto de dados em conjuntos de treinamento e teste, permitindo que você avalie o desempenho do modelo em dados não vistos. O RandomForestClassifier é um algoritmo de aprendizado de máquina que usa uma combinação de árvores de decisão para fazer previsões precisas. Dela também importamos a classe confusion_matrix (matriz de confusão), que é um resumo da contagem dos verdadeiros positivos, falsos positivos, verdadeiros negativos e falsos negativos para um modelo de classificação binária.\n",
    "- 'imblearn' é uma biblioteca Python que contém implementações de diversas técnicas para lidar com desbalanceamento de classes, incluindo o SMOTE.\n",
    "- Por fim, a biblioteca 'classification_report' da sklearn fornece uma métrica de avaliação para o desempenho do modelo de classificação. Ela retorna várias métricas de desempenho, incluindo precisão, recall, f1-score e suporte, para cada classe no conjunto de dados.\n",
    "\n",
    "Essas bibliotecas são muito úteis para trabalhar com ciência de dados em Python, e a combinação delas pode ajudá-lo a explorar, visualizar e analisar dados, construir modelos de aprendizado de máquina e avaliar o desempenho do modelo."
   ]
  },
  {
   "cell_type": "code",
   "execution_count": 98,
   "id": "b544e8c3",
   "metadata": {},
   "outputs": [],
   "source": [
    "import os\n",
    "import pandas as pd\n",
    "import seaborn as sns\n",
    "import matplotlib.pyplot as plt\n",
    "import sklearn.metrics\n",
    "from sklearn.model_selection import train_test_split\n",
    "from sklearn.ensemble import RandomForestClassifier\n",
    "from sklearn.metrics import confusion_matrix\n",
    "from imblearn.over_sampling import SMOTE\n",
    "from sklearn.metrics import classification_report"
   ]
  },
  {
   "cell_type": "markdown",
   "id": "14f80107",
   "metadata": {},
   "source": [
    "Importando o arquivo CSV\n",
    "\n",
    "O código pd.read_csv(\"arquivo\") faz parte do pacote pandas em Python e é usado para ler arquivos CSV (Comma-Separated Values), que são um formato comum para armazenar dados em tabelas."
   ]
  },
  {
   "cell_type": "code",
   "execution_count": 99,
   "id": "704031fc",
   "metadata": {},
   "outputs": [],
   "source": [
    "dataset= pd.read_csv(\"creditcard.csv\")"
   ]
  },
  {
   "cell_type": "markdown",
   "id": "9625140d",
   "metadata": {},
   "source": [
    "Analise Exploratória"
   ]
  },
  {
   "cell_type": "markdown",
   "id": "b347fcd2",
   "metadata": {},
   "source": [
    "dataset.head() é uma função em pandas que exibe as primeiras linhas do objeto DataFrame e é usada para obter uma visão geral rápida dos dados em um DataFrame."
   ]
  },
  {
   "cell_type": "code",
   "execution_count": 100,
   "id": "f6b94e0d",
   "metadata": {},
   "outputs": [
    {
     "data": {
      "text/html": [
       "<div>\n",
       "<style scoped>\n",
       "    .dataframe tbody tr th:only-of-type {\n",
       "        vertical-align: middle;\n",
       "    }\n",
       "\n",
       "    .dataframe tbody tr th {\n",
       "        vertical-align: top;\n",
       "    }\n",
       "\n",
       "    .dataframe thead th {\n",
       "        text-align: right;\n",
       "    }\n",
       "</style>\n",
       "<table border=\"1\" class=\"dataframe\">\n",
       "  <thead>\n",
       "    <tr style=\"text-align: right;\">\n",
       "      <th></th>\n",
       "      <th>Time</th>\n",
       "      <th>V1</th>\n",
       "      <th>V2</th>\n",
       "      <th>V3</th>\n",
       "      <th>V4</th>\n",
       "      <th>V5</th>\n",
       "      <th>V6</th>\n",
       "      <th>V7</th>\n",
       "      <th>V8</th>\n",
       "      <th>V9</th>\n",
       "      <th>...</th>\n",
       "      <th>V21</th>\n",
       "      <th>V22</th>\n",
       "      <th>V23</th>\n",
       "      <th>V24</th>\n",
       "      <th>V25</th>\n",
       "      <th>V26</th>\n",
       "      <th>V27</th>\n",
       "      <th>V28</th>\n",
       "      <th>Amount</th>\n",
       "      <th>Class</th>\n",
       "    </tr>\n",
       "  </thead>\n",
       "  <tbody>\n",
       "    <tr>\n",
       "      <th>0</th>\n",
       "      <td>0.0</td>\n",
       "      <td>-1.359807</td>\n",
       "      <td>-0.072781</td>\n",
       "      <td>2.536347</td>\n",
       "      <td>1.378155</td>\n",
       "      <td>-0.338321</td>\n",
       "      <td>0.462388</td>\n",
       "      <td>0.239599</td>\n",
       "      <td>0.098698</td>\n",
       "      <td>0.363787</td>\n",
       "      <td>...</td>\n",
       "      <td>-0.018307</td>\n",
       "      <td>0.277838</td>\n",
       "      <td>-0.110474</td>\n",
       "      <td>0.066928</td>\n",
       "      <td>0.128539</td>\n",
       "      <td>-0.189115</td>\n",
       "      <td>0.133558</td>\n",
       "      <td>-0.021053</td>\n",
       "      <td>149.62</td>\n",
       "      <td>0</td>\n",
       "    </tr>\n",
       "    <tr>\n",
       "      <th>1</th>\n",
       "      <td>0.0</td>\n",
       "      <td>1.191857</td>\n",
       "      <td>0.266151</td>\n",
       "      <td>0.166480</td>\n",
       "      <td>0.448154</td>\n",
       "      <td>0.060018</td>\n",
       "      <td>-0.082361</td>\n",
       "      <td>-0.078803</td>\n",
       "      <td>0.085102</td>\n",
       "      <td>-0.255425</td>\n",
       "      <td>...</td>\n",
       "      <td>-0.225775</td>\n",
       "      <td>-0.638672</td>\n",
       "      <td>0.101288</td>\n",
       "      <td>-0.339846</td>\n",
       "      <td>0.167170</td>\n",
       "      <td>0.125895</td>\n",
       "      <td>-0.008983</td>\n",
       "      <td>0.014724</td>\n",
       "      <td>2.69</td>\n",
       "      <td>0</td>\n",
       "    </tr>\n",
       "    <tr>\n",
       "      <th>2</th>\n",
       "      <td>1.0</td>\n",
       "      <td>-1.358354</td>\n",
       "      <td>-1.340163</td>\n",
       "      <td>1.773209</td>\n",
       "      <td>0.379780</td>\n",
       "      <td>-0.503198</td>\n",
       "      <td>1.800499</td>\n",
       "      <td>0.791461</td>\n",
       "      <td>0.247676</td>\n",
       "      <td>-1.514654</td>\n",
       "      <td>...</td>\n",
       "      <td>0.247998</td>\n",
       "      <td>0.771679</td>\n",
       "      <td>0.909412</td>\n",
       "      <td>-0.689281</td>\n",
       "      <td>-0.327642</td>\n",
       "      <td>-0.139097</td>\n",
       "      <td>-0.055353</td>\n",
       "      <td>-0.059752</td>\n",
       "      <td>378.66</td>\n",
       "      <td>0</td>\n",
       "    </tr>\n",
       "    <tr>\n",
       "      <th>3</th>\n",
       "      <td>1.0</td>\n",
       "      <td>-0.966272</td>\n",
       "      <td>-0.185226</td>\n",
       "      <td>1.792993</td>\n",
       "      <td>-0.863291</td>\n",
       "      <td>-0.010309</td>\n",
       "      <td>1.247203</td>\n",
       "      <td>0.237609</td>\n",
       "      <td>0.377436</td>\n",
       "      <td>-1.387024</td>\n",
       "      <td>...</td>\n",
       "      <td>-0.108300</td>\n",
       "      <td>0.005274</td>\n",
       "      <td>-0.190321</td>\n",
       "      <td>-1.175575</td>\n",
       "      <td>0.647376</td>\n",
       "      <td>-0.221929</td>\n",
       "      <td>0.062723</td>\n",
       "      <td>0.061458</td>\n",
       "      <td>123.50</td>\n",
       "      <td>0</td>\n",
       "    </tr>\n",
       "    <tr>\n",
       "      <th>4</th>\n",
       "      <td>2.0</td>\n",
       "      <td>-1.158233</td>\n",
       "      <td>0.877737</td>\n",
       "      <td>1.548718</td>\n",
       "      <td>0.403034</td>\n",
       "      <td>-0.407193</td>\n",
       "      <td>0.095921</td>\n",
       "      <td>0.592941</td>\n",
       "      <td>-0.270533</td>\n",
       "      <td>0.817739</td>\n",
       "      <td>...</td>\n",
       "      <td>-0.009431</td>\n",
       "      <td>0.798278</td>\n",
       "      <td>-0.137458</td>\n",
       "      <td>0.141267</td>\n",
       "      <td>-0.206010</td>\n",
       "      <td>0.502292</td>\n",
       "      <td>0.219422</td>\n",
       "      <td>0.215153</td>\n",
       "      <td>69.99</td>\n",
       "      <td>0</td>\n",
       "    </tr>\n",
       "  </tbody>\n",
       "</table>\n",
       "<p>5 rows × 31 columns</p>\n",
       "</div>"
      ],
      "text/plain": [
       "   Time        V1        V2        V3        V4        V5        V6        V7  \\\n",
       "0   0.0 -1.359807 -0.072781  2.536347  1.378155 -0.338321  0.462388  0.239599   \n",
       "1   0.0  1.191857  0.266151  0.166480  0.448154  0.060018 -0.082361 -0.078803   \n",
       "2   1.0 -1.358354 -1.340163  1.773209  0.379780 -0.503198  1.800499  0.791461   \n",
       "3   1.0 -0.966272 -0.185226  1.792993 -0.863291 -0.010309  1.247203  0.237609   \n",
       "4   2.0 -1.158233  0.877737  1.548718  0.403034 -0.407193  0.095921  0.592941   \n",
       "\n",
       "         V8        V9  ...       V21       V22       V23       V24       V25  \\\n",
       "0  0.098698  0.363787  ... -0.018307  0.277838 -0.110474  0.066928  0.128539   \n",
       "1  0.085102 -0.255425  ... -0.225775 -0.638672  0.101288 -0.339846  0.167170   \n",
       "2  0.247676 -1.514654  ...  0.247998  0.771679  0.909412 -0.689281 -0.327642   \n",
       "3  0.377436 -1.387024  ... -0.108300  0.005274 -0.190321 -1.175575  0.647376   \n",
       "4 -0.270533  0.817739  ... -0.009431  0.798278 -0.137458  0.141267 -0.206010   \n",
       "\n",
       "        V26       V27       V28  Amount  Class  \n",
       "0 -0.189115  0.133558 -0.021053  149.62      0  \n",
       "1  0.125895 -0.008983  0.014724    2.69      0  \n",
       "2 -0.139097 -0.055353 -0.059752  378.66      0  \n",
       "3 -0.221929  0.062723  0.061458  123.50      0  \n",
       "4  0.502292  0.219422  0.215153   69.99      0  \n",
       "\n",
       "[5 rows x 31 columns]"
      ]
     },
     "execution_count": 100,
     "metadata": {},
     "output_type": "execute_result"
    }
   ],
   "source": [
    "dataset.head()"
   ]
  },
  {
   "cell_type": "markdown",
   "id": "65c6aba5",
   "metadata": {},
   "source": [
    "dataset.isna().sum() é um código em Python e pandas que é usado para contar o número de valores ausentes em cada coluna de um objeto DataFrame."
   ]
  },
  {
   "cell_type": "code",
   "execution_count": 101,
   "id": "2582859e",
   "metadata": {},
   "outputs": [
    {
     "data": {
      "text/plain": [
       "Time      0\n",
       "V1        0\n",
       "V2        0\n",
       "V3        0\n",
       "V4        0\n",
       "V5        0\n",
       "V6        0\n",
       "V7        0\n",
       "V8        0\n",
       "V9        0\n",
       "V10       0\n",
       "V11       0\n",
       "V12       0\n",
       "V13       0\n",
       "V14       0\n",
       "V15       0\n",
       "V16       0\n",
       "V17       0\n",
       "V18       0\n",
       "V19       0\n",
       "V20       0\n",
       "V21       0\n",
       "V22       0\n",
       "V23       0\n",
       "V24       0\n",
       "V25       0\n",
       "V26       0\n",
       "V27       0\n",
       "V28       0\n",
       "Amount    0\n",
       "Class     0\n",
       "dtype: int64"
      ]
     },
     "execution_count": 101,
     "metadata": {},
     "output_type": "execute_result"
    }
   ],
   "source": [
    "#Buscando valores missing\n",
    "dataset.isna().sum()"
   ]
  },
  {
   "cell_type": "markdown",
   "id": "38f809d5",
   "metadata": {},
   "source": [
    "dataset[\"coluna\"].value_counts() é um código que conta o número de ocorrências de cada valor único em uma coluna do objeto DataFrame, enquanto sns.countplot(dataset[\"coluna\"]) é um código que pode ser usado para visualizar a distribuição dos valores em uma coluna usando a biblioteca Seaborn."
   ]
  },
  {
   "cell_type": "code",
   "execution_count": 102,
   "id": "54688679",
   "metadata": {},
   "outputs": [
    {
     "name": "stderr",
     "output_type": "stream",
     "text": [
      "C:\\Users\\Alanf\\download\\Anaconda3\\lib\\site-packages\\seaborn\\_decorators.py:36: FutureWarning: Pass the following variable as a keyword arg: x. From version 0.12, the only valid positional argument will be `data`, and passing other arguments without an explicit keyword will result in an error or misinterpretation.\n",
      "  warnings.warn(\n"
     ]
    },
    {
     "data": {
      "text/plain": [
       "<AxesSubplot:xlabel='Class', ylabel='count'>"
      ]
     },
     "execution_count": 102,
     "metadata": {},
     "output_type": "execute_result"
    },
    {
     "data": {
      "image/png": "[encoded data removed]",
      "text/plain": [
       "<Figure size 640x480 with 1 Axes>"
      ]
     },
     "metadata": {},
     "output_type": "display_data"
    }
   ],
   "source": [
    "#Dando uma olhadana na variavel Target\n",
    "dataset[\"Class\"].value_counts()\n",
    "sns.countplot(#Dando uma olhadana na variavel Target\n",
    "dataset[\"Class\"])"
   ]
  },
  {
   "cell_type": "markdown",
   "id": "0539ff22",
   "metadata": {},
   "source": [
    "dataset.corr()[\"coluna\"].sort_values(ascending=False) é um código que calcula a correlação de Pearson entre a variável alvo (\"Class\") e as outras variáveis numéricas no DataFrame e classifica as correlações em ordem decrescente."
   ]
  },
  {
   "cell_type": "code",
   "execution_count": 103,
   "id": "1cc9e388",
   "metadata": {},
   "outputs": [
    {
     "data": {
      "text/plain": [
       "Class     1.000000\n",
       "V11       0.154876\n",
       "V4        0.133447\n",
       "V2        0.091289\n",
       "V21       0.040413\n",
       "V19       0.034783\n",
       "V20       0.020090\n",
       "V8        0.019875\n",
       "V27       0.017580\n",
       "V28       0.009536\n",
       "Amount    0.005632\n",
       "V26       0.004455\n",
       "V25       0.003308\n",
       "V22       0.000805\n",
       "V23      -0.002685\n",
       "V15      -0.004223\n",
       "V13      -0.004570\n",
       "V24      -0.007221\n",
       "Time     -0.012323\n",
       "V6       -0.043643\n",
       "V5       -0.094974\n",
       "V9       -0.097733\n",
       "V1       -0.101347\n",
       "V18      -0.111485\n",
       "V7       -0.187257\n",
       "V3       -0.192961\n",
       "V16      -0.196539\n",
       "V10      -0.216883\n",
       "V12      -0.260593\n",
       "V14      -0.302544\n",
       "V17      -0.326481\n",
       "Name: Class, dtype: float64"
      ]
     },
     "execution_count": 103,
     "metadata": {},
     "output_type": "execute_result"
    }
   ],
   "source": [
    "#Correlação\n",
    "dataset.corr()[\"Class\"].sort_values(ascending=False)"
   ]
  },
  {
   "cell_type": "markdown",
   "id": "60065a87",
   "metadata": {},
   "source": [
    "dataset.describe() é um código que gera um resumo estatístico do DataFrame, incluindo informações como contagem, média, desvio padrão, mínimo, máximo e quartis para cada coluna numérica no DataFrame."
   ]
  },
  {
   "cell_type": "code",
   "execution_count": 104,
   "id": "e1870b08",
   "metadata": {},
   "outputs": [
    {
     "data": {
      "text/html": [
       "<div>\n",
       "<style scoped>\n",
       "    .dataframe tbody tr th:only-of-type {\n",
       "        vertical-align: middle;\n",
       "    }\n",
       "\n",
       "    .dataframe tbody tr th {\n",
       "        vertical-align: top;\n",
       "    }\n",
       "\n",
       "    .dataframe thead th {\n",
       "        text-align: right;\n",
       "    }\n",
       "</style>\n",
       "<table border=\"1\" class=\"dataframe\">\n",
       "  <thead>\n",
       "    <tr style=\"text-align: right;\">\n",
       "      <th></th>\n",
       "      <th>Time</th>\n",
       "      <th>V1</th>\n",
       "      <th>V2</th>\n",
       "      <th>V3</th>\n",
       "      <th>V4</th>\n",
       "      <th>V5</th>\n",
       "      <th>V6</th>\n",
       "      <th>V7</th>\n",
       "      <th>V8</th>\n",
       "      <th>V9</th>\n",
       "      <th>...</th>\n",
       "      <th>V21</th>\n",
       "      <th>V22</th>\n",
       "      <th>V23</th>\n",
       "      <th>V24</th>\n",
       "      <th>V25</th>\n",
       "      <th>V26</th>\n",
       "      <th>V27</th>\n",
       "      <th>V28</th>\n",
       "      <th>Amount</th>\n",
       "      <th>Class</th>\n",
       "    </tr>\n",
       "  </thead>\n",
       "  <tbody>\n",
       "    <tr>\n",
       "      <th>count</th>\n",
       "      <td>284807.000000</td>\n",
       "      <td>2.848070e+05</td>\n",
       "      <td>2.848070e+05</td>\n",
       "      <td>2.848070e+05</td>\n",
       "      <td>2.848070e+05</td>\n",
       "      <td>2.848070e+05</td>\n",
       "      <td>2.848070e+05</td>\n",
       "      <td>2.848070e+05</td>\n",
       "      <td>2.848070e+05</td>\n",
       "      <td>2.848070e+05</td>\n",
       "      <td>...</td>\n",
       "      <td>2.848070e+05</td>\n",
       "      <td>2.848070e+05</td>\n",
       "      <td>2.848070e+05</td>\n",
       "      <td>2.848070e+05</td>\n",
       "      <td>2.848070e+05</td>\n",
       "      <td>2.848070e+05</td>\n",
       "      <td>2.848070e+05</td>\n",
       "      <td>2.848070e+05</td>\n",
       "      <td>284807.000000</td>\n",
       "      <td>284807.000000</td>\n",
       "    </tr>\n",
       "    <tr>\n",
       "      <th>mean</th>\n",
       "      <td>94813.859575</td>\n",
       "      <td>3.918649e-15</td>\n",
       "      <td>5.682686e-16</td>\n",
       "      <td>-8.761736e-15</td>\n",
       "      <td>2.811118e-15</td>\n",
       "      <td>-1.552103e-15</td>\n",
       "      <td>2.040130e-15</td>\n",
       "      <td>-1.698953e-15</td>\n",
       "      <td>-1.893285e-16</td>\n",
       "      <td>-3.147640e-15</td>\n",
       "      <td>...</td>\n",
       "      <td>1.473120e-16</td>\n",
       "      <td>8.042109e-16</td>\n",
       "      <td>5.282512e-16</td>\n",
       "      <td>4.456271e-15</td>\n",
       "      <td>1.426896e-15</td>\n",
       "      <td>1.701640e-15</td>\n",
       "      <td>-3.662252e-16</td>\n",
       "      <td>-1.217809e-16</td>\n",
       "      <td>88.349619</td>\n",
       "      <td>0.001727</td>\n",
       "    </tr>\n",
       "    <tr>\n",
       "      <th>std</th>\n",
       "      <td>47488.145955</td>\n",
       "      <td>1.958696e+00</td>\n",
       "      <td>1.651309e+00</td>\n",
       "      <td>1.516255e+00</td>\n",
       "      <td>1.415869e+00</td>\n",
       "      <td>1.380247e+00</td>\n",
       "      <td>1.332271e+00</td>\n",
       "      <td>1.237094e+00</td>\n",
       "      <td>1.194353e+00</td>\n",
       "      <td>1.098632e+00</td>\n",
       "      <td>...</td>\n",
       "      <td>7.345240e-01</td>\n",
       "      <td>7.257016e-01</td>\n",
       "      <td>6.244603e-01</td>\n",
       "      <td>6.056471e-01</td>\n",
       "      <td>5.212781e-01</td>\n",
       "      <td>4.822270e-01</td>\n",
       "      <td>4.036325e-01</td>\n",
       "      <td>3.300833e-01</td>\n",
       "      <td>250.120109</td>\n",
       "      <td>0.041527</td>\n",
       "    </tr>\n",
       "    <tr>\n",
       "      <th>min</th>\n",
       "      <td>0.000000</td>\n",
       "      <td>-5.640751e+01</td>\n",
       "      <td>-7.271573e+01</td>\n",
       "      <td>-4.832559e+01</td>\n",
       "      <td>-5.683171e+00</td>\n",
       "      <td>-1.137433e+02</td>\n",
       "      <td>-2.616051e+01</td>\n",
       "      <td>-4.355724e+01</td>\n",
       "      <td>-7.321672e+01</td>\n",
       "      <td>-1.343407e+01</td>\n",
       "      <td>...</td>\n",
       "      <td>-3.483038e+01</td>\n",
       "      <td>-1.093314e+01</td>\n",
       "      <td>-4.480774e+01</td>\n",
       "      <td>-2.836627e+00</td>\n",
       "      <td>-1.029540e+01</td>\n",
       "      <td>-2.604551e+00</td>\n",
       "      <td>-2.256568e+01</td>\n",
       "      <td>-1.543008e+01</td>\n",
       "      <td>0.000000</td>\n",
       "      <td>0.000000</td>\n",
       "    </tr>\n",
       "    <tr>\n",
       "      <th>25%</th>\n",
       "      <td>54201.500000</td>\n",
       "      <td>-9.203734e-01</td>\n",
       "      <td>-5.985499e-01</td>\n",
       "      <td>-8.903648e-01</td>\n",
       "      <td>-8.486401e-01</td>\n",
       "      <td>-6.915971e-01</td>\n",
       "      <td>-7.682956e-01</td>\n",
       "      <td>-5.540759e-01</td>\n",
       "      <td>-2.086297e-01</td>\n",
       "      <td>-6.430976e-01</td>\n",
       "      <td>...</td>\n",
       "      <td>-2.283949e-01</td>\n",
       "      <td>-5.423504e-01</td>\n",
       "      <td>-1.618463e-01</td>\n",
       "      <td>-3.545861e-01</td>\n",
       "      <td>-3.171451e-01</td>\n",
       "      <td>-3.269839e-01</td>\n",
       "      <td>-7.083953e-02</td>\n",
       "      <td>-5.295979e-02</td>\n",
       "      <td>5.600000</td>\n",
       "      <td>0.000000</td>\n",
       "    </tr>\n",
       "    <tr>\n",
       "      <th>50%</th>\n",
       "      <td>84692.000000</td>\n",
       "      <td>1.810880e-02</td>\n",
       "      <td>6.548556e-02</td>\n",
       "      <td>1.798463e-01</td>\n",
       "      <td>-1.984653e-02</td>\n",
       "      <td>-5.433583e-02</td>\n",
       "      <td>-2.741871e-01</td>\n",
       "      <td>4.010308e-02</td>\n",
       "      <td>2.235804e-02</td>\n",
       "      <td>-5.142873e-02</td>\n",
       "      <td>...</td>\n",
       "      <td>-2.945017e-02</td>\n",
       "      <td>6.781943e-03</td>\n",
       "      <td>-1.119293e-02</td>\n",
       "      <td>4.097606e-02</td>\n",
       "      <td>1.659350e-02</td>\n",
       "      <td>-5.213911e-02</td>\n",
       "      <td>1.342146e-03</td>\n",
       "      <td>1.124383e-02</td>\n",
       "      <td>22.000000</td>\n",
       "      <td>0.000000</td>\n",
       "    </tr>\n",
       "    <tr>\n",
       "      <th>75%</th>\n",
       "      <td>139320.500000</td>\n",
       "      <td>1.315642e+00</td>\n",
       "      <td>8.037239e-01</td>\n",
       "      <td>1.027196e+00</td>\n",
       "      <td>7.433413e-01</td>\n",
       "      <td>6.119264e-01</td>\n",
       "      <td>3.985649e-01</td>\n",
       "      <td>5.704361e-01</td>\n",
       "      <td>3.273459e-01</td>\n",
       "      <td>5.971390e-01</td>\n",
       "      <td>...</td>\n",
       "      <td>1.863772e-01</td>\n",
       "      <td>5.285536e-01</td>\n",
       "      <td>1.476421e-01</td>\n",
       "      <td>4.395266e-01</td>\n",
       "      <td>3.507156e-01</td>\n",
       "      <td>2.409522e-01</td>\n",
       "      <td>9.104512e-02</td>\n",
       "      <td>7.827995e-02</td>\n",
       "      <td>77.165000</td>\n",
       "      <td>0.000000</td>\n",
       "    </tr>\n",
       "    <tr>\n",
       "      <th>max</th>\n",
       "      <td>172792.000000</td>\n",
       "      <td>2.454930e+00</td>\n",
       "      <td>2.205773e+01</td>\n",
       "      <td>9.382558e+00</td>\n",
       "      <td>1.687534e+01</td>\n",
       "      <td>3.480167e+01</td>\n",
       "      <td>7.330163e+01</td>\n",
       "      <td>1.205895e+02</td>\n",
       "      <td>2.000721e+01</td>\n",
       "      <td>1.559499e+01</td>\n",
       "      <td>...</td>\n",
       "      <td>2.720284e+01</td>\n",
       "      <td>1.050309e+01</td>\n",
       "      <td>2.252841e+01</td>\n",
       "      <td>4.584549e+00</td>\n",
       "      <td>7.519589e+00</td>\n",
       "      <td>3.517346e+00</td>\n",
       "      <td>3.161220e+01</td>\n",
       "      <td>3.384781e+01</td>\n",
       "      <td>25691.160000</td>\n",
       "      <td>1.000000</td>\n",
       "    </tr>\n",
       "  </tbody>\n",
       "</table>\n",
       "<p>8 rows × 31 columns</p>\n",
       "</div>"
      ],
      "text/plain": [
       "                Time            V1            V2            V3            V4  \\\n",
       "count  284807.000000  2.848070e+05  2.848070e+05  2.848070e+05  2.848070e+05   \n",
       "mean    94813.859575  3.918649e-15  5.682686e-16 -8.761736e-15  2.811118e-15   \n",
       "std     47488.145955  1.958696e+00  1.651309e+00  1.516255e+00  1.415869e+00   \n",
       "min         0.000000 -5.640751e+01 -7.271573e+01 -4.832559e+01 -5.683171e+00   \n",
       "25%     54201.500000 -9.203734e-01 -5.985499e-01 -8.903648e-01 -8.486401e-01   \n",
       "50%     84692.000000  1.810880e-02  6.548556e-02  1.798463e-01 -1.984653e-02   \n",
       "75%    139320.500000  1.315642e+00  8.037239e-01  1.027196e+00  7.433413e-01   \n",
       "max    172792.000000  2.454930e+00  2.205773e+01  9.382558e+00  1.687534e+01   \n",
       "\n",
       "                 V5            V6            V7            V8            V9  \\\n",
       "count  2.848070e+05  2.848070e+05  2.848070e+05  2.848070e+05  2.848070e+05   \n",
       "mean  -1.552103e-15  2.040130e-15 -1.698953e-15 -1.893285e-16 -3.147640e-15   \n",
       "std    1.380247e+00  1.332271e+00  1.237094e+00  1.194353e+00  1.098632e+00   \n",
       "min   -1.137433e+02 -2.616051e+01 -4.355724e+01 -7.321672e+01 -1.343407e+01   \n",
       "25%   -6.915971e-01 -7.682956e-01 -5.540759e-01 -2.086297e-01 -6.430976e-01   \n",
       "50%   -5.433583e-02 -2.741871e-01  4.010308e-02  2.235804e-02 -5.142873e-02   \n",
       "75%    6.119264e-01  3.985649e-01  5.704361e-01  3.273459e-01  5.971390e-01   \n",
       "max    3.480167e+01  7.330163e+01  1.205895e+02  2.000721e+01  1.559499e+01   \n",
       "\n",
       "       ...           V21           V22           V23           V24  \\\n",
       "count  ...  2.848070e+05  2.848070e+05  2.848070e+05  2.848070e+05   \n",
       "mean   ...  1.473120e-16  8.042109e-16  5.282512e-16  4.456271e-15   \n",
       "std    ...  7.345240e-01  7.257016e-01  6.244603e-01  6.056471e-01   \n",
       "min    ... -3.483038e+01 -1.093314e+01 -4.480774e+01 -2.836627e+00   \n",
       "25%    ... -2.283949e-01 -5.423504e-01 -1.618463e-01 -3.545861e-01   \n",
       "50%    ... -2.945017e-02  6.781943e-03 -1.119293e-02  4.097606e-02   \n",
       "75%    ...  1.863772e-01  5.285536e-01  1.476421e-01  4.395266e-01   \n",
       "max    ...  2.720284e+01  1.050309e+01  2.252841e+01  4.584549e+00   \n",
       "\n",
       "                V25           V26           V27           V28         Amount  \\\n",
       "count  2.848070e+05  2.848070e+05  2.848070e+05  2.848070e+05  284807.000000   \n",
       "mean   1.426896e-15  1.701640e-15 -3.662252e-16 -1.217809e-16      88.349619   \n",
       "std    5.212781e-01  4.822270e-01  4.036325e-01  3.300833e-01     250.120109   \n",
       "min   -1.029540e+01 -2.604551e+00 -2.256568e+01 -1.543008e+01       0.000000   \n",
       "25%   -3.171451e-01 -3.269839e-01 -7.083953e-02 -5.295979e-02       5.600000   \n",
       "50%    1.659350e-02 -5.213911e-02  1.342146e-03  1.124383e-02      22.000000   \n",
       "75%    3.507156e-01  2.409522e-01  9.104512e-02  7.827995e-02      77.165000   \n",
       "max    7.519589e+00  3.517346e+00  3.161220e+01  3.384781e+01   25691.160000   \n",
       "\n",
       "               Class  \n",
       "count  284807.000000  \n",
       "mean        0.001727  \n",
       "std         0.041527  \n",
       "min         0.000000  \n",
       "25%         0.000000  \n",
       "50%         0.000000  \n",
       "75%         0.000000  \n",
       "max         1.000000  \n",
       "\n",
       "[8 rows x 31 columns]"
      ]
     },
     "execution_count": 104,
     "metadata": {},
     "output_type": "execute_result"
    }
   ],
   "source": [
    "dataset.describe()"
   ]
  },
  {
   "cell_type": "markdown",
   "id": "6fbe8504",
   "metadata": {},
   "source": [
    "Pré processamento dos dados"
   ]
  },
  {
   "cell_type": "markdown",
   "id": "74276988",
   "metadata": {},
   "source": [
    "O pré-processamento de dados em ciência de dados refere-se ao conjunto de etapas necessárias para transformar os dados brutos em dados limpos e organizados que possam ser facilmente analisados ​​e utilizados para treinar modelos de aprendizado de máquina. As etapas típicas incluem:\n",
    "\n",
    "1. Coleta de dados: aquisição dos dados necessários para a análise.\n",
    "2. Limpeza de dados: identificação e correção de erros, preenchimento de valores faltantes, remoção de duplicatas e normalização dos dados.\n",
    "3. Transformação de dados: aplicação de transformações aos dados para torná-los mais úteis para análise, como a padronização ou normalização de variáveis, ou a codificação de variáveis categóricas.\n",
    "4. Redução de dimensionalidade: redução do número de variáveis em um conjunto de dados, geralmente por meio de técnicas de análise de componentes principais ou seleção de recursos.\n",
    "5. Separação de dados: divisão do conjunto de dados em conjuntos de treinamento, validação e teste para modelagem e avaliação de desempenho.\n",
    "\n",
    "O pré-processamento de dados é uma etapa crítica na análise de dados, pois a qualidade dos dados pode afetar significativamente os resultados da análise e dos modelos de aprendizado de máquina. Portanto, é importante investir tempo suficiente na coleta, limpeza e transformação dos dados para garantir que eles sejam confiáveis e úteis."
   ]
  },
  {
   "cell_type": "code",
   "execution_count": 105,
   "id": "6a984290",
   "metadata": {},
   "outputs": [
    {
     "name": "stdout",
     "output_type": "stream",
     "text": [
      "Quantidade de registros para treino:  199364\n",
      "Quantidade de registros para teste:  85443\n"
     ]
    }
   ],
   "source": [
    "X = dataset.drop('Class', axis = 1)\n",
    "y = dataset['Class']\n",
    "\n",
    "x_train, x_test, y_train, y_test = train_test_split(X, Y, test_size=0.3, random_state=10) \n",
    "\n",
    "print('Quantidade de registros para treino: ', x_train.shape[0]) \n",
    "print('Quantidade de registros para teste: ',x_test.shape[0])"
   ]
  },
  {
   "cell_type": "code",
   "execution_count": 106,
   "id": "df2b2858",
   "metadata": {},
   "outputs": [],
   "source": [
    "model = RandomForestClassifier()"
   ]
  },
  {
   "cell_type": "code",
   "execution_count": 107,
   "id": "445f0fb1",
   "metadata": {},
   "outputs": [],
   "source": [
    "model = model.fit(x_train,y_train)"
   ]
  },
  {
   "cell_type": "code",
   "execution_count": 108,
   "id": "708ae512",
   "metadata": {},
   "outputs": [],
   "source": [
    "y_predict = model.predict(x_test)"
   ]
  },
  {
   "cell_type": "code",
   "execution_count": null,
   "id": "4a149c1b",
   "metadata": {},
   "outputs": [],
   "source": [
    "gabarito = pd.DataFrame({'Gabarito': y_test, 'Previsões da Maquina': y_predict})\n",
    "gabarito"
   ]
  },
  {
   "cell_type": "code",
   "execution_count": 110,
   "id": "4beb31e8",
   "metadata": {},
   "outputs": [
    {
     "name": "stdout",
     "output_type": "stream",
     "text": [
      "Métricas de Classificação: \n",
      "               precision    recall  f1-score   support\n",
      "\n",
      "           0       1.00      1.00      1.00     85302\n",
      "           1       0.97      0.82      0.89       141\n",
      "\n",
      "    accuracy                           1.00     85443\n",
      "   macro avg       0.98      0.91      0.94     85443\n",
      "weighted avg       1.00      1.00      1.00     85443\n",
      "\n"
     ]
    }
   ],
   "source": [
    "print('Métricas de Classificação: \\n', classification_report(y_test,y_predict))"
   ]
  },
  {
   "cell_type": "markdown",
   "id": "50f6e42e",
   "metadata": {},
   "source": [
    "As métricas de classificação apresentadas são muito importantes para avaliar o desempenho do algoritmo de Machine Learning em questão.\n",
    "\n",
    "- Precision: representa a proporção de verdadeiros positivos (classe 1) em relação ao total de previsões positivas (verdadeiros positivos + falsos positivos). No contexto de detecção de fraudes em cartões de crédito, a precision significa a proporção de transações previstas como fraudulentas que de fato são fraudulentas. No caso apresentado, a precision para a classe 1 é de 0.97, o que é uma boa medida.\n",
    "\n",
    "- Recall: representa a proporção de verdadeiros positivos em relação ao total de casos positivos (verdadeiros positivos + falsos negativos). No contexto de detecção de fraudes em cartões de crédito, o recall significa a proporção de transações fraudulentas que foram previstas corretamente pelo modelo. No caso apresentado, o recall para a classe 1 é de 0.82, o que indica que o modelo identificou a maioria das transações fraudulentas.\n",
    "\n",
    "- F1-score: é a média harmônica entre precision e recall. É uma medida balanceada que leva em conta tanto a precision quanto o recall. No caso apresentado, o F1-score para a classe 1 é de 0.89.\n",
    "\n",
    "- Accuracy: é a proporção de previsões corretas em relação ao total de previsões. No caso apresentado, a accuracy do modelo é de 1.00, o que indica que o modelo acertou todas as previsões.\n",
    "\n",
    "- Support: representa o número de amostras de cada classe no conjunto de teste. No caso apresentado, há 85.302 amostras da classe 0 e 141 amostras da classe 1."
   ]
  },
  {
   "cell_type": "markdown",
   "id": "689de05b",
   "metadata": {},
   "source": [
    "Porém, todo este trabalho foi realizado num dataset com dados desbalanceado.\n",
    "\n",
    "Dados desbalanceados são aqueles em que as classes de interesse no conjunto de dados possuem um número muito diferente de amostras. Por exemplo, em um conjunto de dados com duas classes, uma classe pode ter apenas 10% das amostras enquanto a outra tem 90%. Isso pode causar problemas para muitos algoritmos de aprendizado de máquina, uma vez que eles tendem a ser mais eficazes na predição da classe majoritária, já que essa classe tem mais exemplos para aprender.\n",
    "\n",
    "Alguns exemplos de problemas que podem ocorrer em conjuntos de dados desbalanceados incluem baixa precisão, baixa revocação e viés de predição. Além disso, em casos extremos, os algoritmos podem simplesmente ignorar a classe minoritária completamente, o que pode ser problemático em tarefas críticas como detecção de fraude ou identificação de doenças raras.\n",
    "\n",
    "Portanto, é importante lidar com dados desbalanceados antes de treinar um modelo de aprendizado de máquina. Uma das técnicas mais comuns é o oversampling (aumento da quantidade de amostras) da classe minoritária, que pode ser feito utilizando técnicas como SMOTE (Synthetic Minority Over-sampling Technique)."
   ]
  },
  {
   "cell_type": "code",
   "execution_count": 60,
   "id": "9972f634",
   "metadata": {},
   "outputs": [],
   "source": [
    "smote = SMOTE()\n",
    "X_res, y_res = smote.fit_resample(X, y)"
   ]
  },
  {
   "cell_type": "code",
   "execution_count": 61,
   "id": "da18e99c",
   "metadata": {},
   "outputs": [
    {
     "data": {
      "text/plain": [
       "<AxesSubplot:xlabel='Class', ylabel='count'>"
      ]
     },
     "execution_count": 61,
     "metadata": {},
     "output_type": "execute_result"
    },
    {
     "data": {
      "image/png": "[encoded data removed]",
      "text/plain": [
       "<Figure size 640x480 with 1 Axes>"
      ]
     },
     "metadata": {},
     "output_type": "display_data"
    }
   ],
   "source": [
    "# Criação do novo conjunto de dados balanceado\n",
    "data_res = pd.concat([pd.DataFrame(X_res), pd.DataFrame(y_res, columns=['Class'])], axis=1)\n",
    "\n",
    "# Visualização da distribuição das classes\n",
    "sns.countplot(x='Class', data=data_res)"
   ]
  },
  {
   "cell_type": "markdown",
   "id": "b4549ce4",
   "metadata": {},
   "source": [
    "### SELEÇÃO DO MODELO"
   ]
  },
  {
   "cell_type": "markdown",
   "id": "ec8437ba",
   "metadata": {},
   "source": [
    "Neste trabalho, optamos pelo uso do modelo Random Forest Classifier, um algoritmo de classificação baseado em árvores de decisão. Esse modelo cria uma floresta de árvores de decisão e faz previsões com base na maioria das previsões individuais de cada árvore. O Random Forest é amplamente utilizado em problemas de classificação, regressão e detecção de anomalias, sendo capaz de lidar com dados categóricos e numéricos. É uma técnica poderosa de aprendizado de máquina que oferece boa precisão e resistência ao overfitting.\n",
    "Além disso, abordamos a importância da separação dos dados em conjuntos de treinamento e teste. Essa divisão permite treinar o modelo com os dados de treinamento e avaliar seu desempenho em dados não vistos durante o treinamento. A proporção comum para essa divisão é de 70-30 ou 80-20, onde 70% ou 80% dos dados são usados para treinamento e o restante para teste, garantindo que o modelo generalize bem para novos dados."
   ]
  },
  {
   "cell_type": "code",
   "execution_count": 67,
   "id": "390a3000",
   "metadata": {},
   "outputs": [
    {
     "name": "stdout",
     "output_type": "stream",
     "text": [
      "Quantidade de registros para treino:  199364\n",
      "Quantidade de registros para teste:  85443\n"
     ]
    }
   ],
   "source": [
    "X2_train, X2_test, y2_train, y2_test = train_test_split(X_res, y_res, test_size=0.3, random_state=10)\n",
    "\n",
    "print('Quantidade de registros para treino: ', x_train.shape[0]) \n",
    "print('Quantidade de registros para teste: ',x_test.shape[0]) #qtd de registros para teste"
   ]
  },
  {
   "cell_type": "code",
   "execution_count": 68,
   "id": "8cf5c9e1",
   "metadata": {},
   "outputs": [
    {
     "data": {
      "text/plain": [
       "RandomForestClassifier()"
      ]
     },
     "execution_count": 68,
     "metadata": {},
     "output_type": "execute_result"
    }
   ],
   "source": [
    "model2 = RandomForestClassifier()\n",
    "model2.fit(X2_train, y2_train)"
   ]
  },
  {
   "cell_type": "code",
   "execution_count": 69,
   "id": "3b8f59d6",
   "metadata": {},
   "outputs": [],
   "source": [
    "y_predict2 = model2.predict(X2_test)"
   ]
  },
  {
   "cell_type": "markdown",
   "id": "4dd3bf40",
   "metadata": {},
   "source": [
    "A figura abaixo mostra o código para criação de uma tabela para comparação de resultados.\n",
    "Ele cria um DataFrame chamado \"gabarito\" que contém duas colunas: \"Gabarito\" e\n",
    "\"Previsões da Maquina\". A coluna \"Gabarito\" contém os valores verdadeiros da classe (0 ou\n",
    "1) para as amostras de teste e a coluna \"Previsões da Maquina\" contém as previsões feitas\n",
    "pelo modelo para as mesmas amostras de teste. A visualização permite que sejam analisadas\n",
    "as previsões feitas pelo modelo e comparadas com os valores verdadeiros da classe"
   ]
  },
  {
   "cell_type": "code",
   "execution_count": 70,
   "id": "7899888e",
   "metadata": {},
   "outputs": [
    {
     "data": {
      "text/html": [
       "<div>\n",
       "<style scoped>\n",
       "    .dataframe tbody tr th:only-of-type {\n",
       "        vertical-align: middle;\n",
       "    }\n",
       "\n",
       "    .dataframe tbody tr th {\n",
       "        vertical-align: top;\n",
       "    }\n",
       "\n",
       "    .dataframe thead th {\n",
       "        text-align: right;\n",
       "    }\n",
       "</style>\n",
       "<table border=\"1\" class=\"dataframe\">\n",
       "  <thead>\n",
       "    <tr style=\"text-align: right;\">\n",
       "      <th></th>\n",
       "      <th>Gabarito</th>\n",
       "      <th>Previsões da Maquina</th>\n",
       "    </tr>\n",
       "  </thead>\n",
       "  <tbody>\n",
       "    <tr>\n",
       "      <th>168367</th>\n",
       "      <td>0</td>\n",
       "      <td>0</td>\n",
       "    </tr>\n",
       "    <tr>\n",
       "      <th>110270</th>\n",
       "      <td>0</td>\n",
       "      <td>0</td>\n",
       "    </tr>\n",
       "    <tr>\n",
       "      <th>243562</th>\n",
       "      <td>0</td>\n",
       "      <td>0</td>\n",
       "    </tr>\n",
       "    <tr>\n",
       "      <th>74702</th>\n",
       "      <td>0</td>\n",
       "      <td>0</td>\n",
       "    </tr>\n",
       "    <tr>\n",
       "      <th>98416</th>\n",
       "      <td>0</td>\n",
       "      <td>0</td>\n",
       "    </tr>\n",
       "    <tr>\n",
       "      <th>...</th>\n",
       "      <td>...</td>\n",
       "      <td>...</td>\n",
       "    </tr>\n",
       "    <tr>\n",
       "      <th>27285</th>\n",
       "      <td>0</td>\n",
       "      <td>0</td>\n",
       "    </tr>\n",
       "    <tr>\n",
       "      <th>135082</th>\n",
       "      <td>0</td>\n",
       "      <td>0</td>\n",
       "    </tr>\n",
       "    <tr>\n",
       "      <th>169296</th>\n",
       "      <td>0</td>\n",
       "      <td>0</td>\n",
       "    </tr>\n",
       "    <tr>\n",
       "      <th>58125</th>\n",
       "      <td>0</td>\n",
       "      <td>0</td>\n",
       "    </tr>\n",
       "    <tr>\n",
       "      <th>53657</th>\n",
       "      <td>0</td>\n",
       "      <td>0</td>\n",
       "    </tr>\n",
       "  </tbody>\n",
       "</table>\n",
       "<p>85443 rows × 2 columns</p>\n",
       "</div>"
      ],
      "text/plain": [
       "        Gabarito  Previsões da Maquina\n",
       "168367         0                     0\n",
       "110270         0                     0\n",
       "243562         0                     0\n",
       "74702          0                     0\n",
       "98416          0                     0\n",
       "...          ...                   ...\n",
       "27285          0                     0\n",
       "135082         0                     0\n",
       "169296         0                     0\n",
       "58125          0                     0\n",
       "53657          0                     0\n",
       "\n",
       "[85443 rows x 2 columns]"
      ]
     },
     "execution_count": 70,
     "metadata": {},
     "output_type": "execute_result"
    }
   ],
   "source": [
    "gabarito2 = pd.DataFrame({'Gabarito': y2_test, 'Previsões da Maquina': y_predict2})\n",
    "gabarito"
   ]
  },
  {
   "cell_type": "markdown",
   "id": "a767960b",
   "metadata": {},
   "source": [
    "## Avaliação do Modelo"
   ]
  },
  {
   "cell_type": "markdown",
   "id": "e1f2d5e6",
   "metadata": {},
   "source": [
    "A figura abaixo mostra o código e a saída gerada pela função classification_report do scikitlearn para imprimir as métricas de classificação do modelo de machine learning. A função\n",
    "recebe como parâmetros o conjunto de dados de teste (y_test) e as previsões do modelo\n",
    "(y_predict), e retorna um relatório com as seguintes métricas de avaliação: precision, recall e\n",
    "f1-score, para cada classe (no caso de problemas de classificação com mais de uma classe), e\n",
    "a média ponderada dessas métricas (weighted avg).\n",
    "Essas métricas são importantes para avaliar o desempenho do modelo em relação à\n",
    "capacidade de prever corretamente as classes. A precisão mede a proporção de previsões\n",
    "corretas para uma determinada classe em relação ao total de previsões para essa classe. O\n",
    "recall mede a proporção de previsões corretas para uma determinada classe em relação ao\n",
    "total de instâncias daquela classe no conjunto de testes. O f1-score é uma média harmônica\n",
    "entre precisão e recall, e é uma métrica mais balanceada para problemas desbalanceados. O\n",
    "relatório impresso com essas métricas é útil para avaliar o desempenho do modelo em cada\n",
    "classe, identificar classes que possam estar sendo sub ou superestimadas e comparar\n",
    "diferentes modelos ou configurações de parâmetros"
   ]
  },
  {
   "cell_type": "code",
   "execution_count": 71,
   "id": "a95ede5f",
   "metadata": {},
   "outputs": [
    {
     "name": "stdout",
     "output_type": "stream",
     "text": [
      "Novas Métricas de Classificação: \n",
      "               precision    recall  f1-score   support\n",
      "\n",
      "           0       1.00      1.00      1.00     85205\n",
      "           1       1.00      1.00      1.00     85384\n",
      "\n",
      "    accuracy                           1.00    170589\n",
      "   macro avg       1.00      1.00      1.00    170589\n",
      "weighted avg       1.00      1.00      1.00    170589\n",
      "\n"
     ]
    }
   ],
   "source": [
    "print('Novas Métricas de Classificação: \\n', classification_report(y_test,y_predict))"
   ]
  },
  {
   "cell_type": "markdown",
   "id": "dea17d13",
   "metadata": {},
   "source": [
    "- A precisão (precision) representa a proporção de observações classificadas como positivas pelo modelo que realmente eram positivas. No caso apresentado, a precisão para a classe 0 (transações normais) foi de 1.00, ou seja, todas as transações classificadas como normais pelo modelo eram realmente normais. Para a classe 1 (fraudes), a precisão também foi de 1.00, indicando que todas as transações classificadas como fraude eram realmente fraudes.\n",
    "\n",
    "- O recall representa a proporção de observações positivas que foram corretamente identificadas pelo modelo. No caso apresentado, o recall para a classe 0 foi de 1.00, indicando que todas as transações normais foram corretamente identificadas como normais pelo modelo. Para a classe 1, o recall também foi de 1.00, indicando que todas as transações fraudulentas foram corretamente identificadas pelo modelo.\n",
    "\n",
    "- O F1-score é uma média harmônica entre a precisão e o recall, sendo uma medida que combina ambas as métricas. No caso apresentado, o F1-score foi de 1.00 para ambas as classes, indicando um bom desempenho do modelo na classificação das transações.\n",
    "\n",
    "- A acurácia (accuracy) representa a proporção de observações que foram corretamente classificadas pelo modelo, considerando ambas as classes. No caso apresentado, a acurácia foi de 1.00, indicando que todas as transações foram corretamente classificadas pelo modelo.\n",
    "\n",
    "Em resumo, os resultados indicam um bom desempenho do modelo na detecção de fraudes, com alta precisão, recall, F1-score e acurácia."
   ]
  },
  {
   "cell_type": "markdown",
   "id": "5a7b8393",
   "metadata": {},
   "source": [
    "## Interpretação do modelo"
   ]
  },
  {
   "cell_type": "markdown",
   "id": "f11346f3",
   "metadata": {},
   "source": [
    "O modelo Random Forest Classifier é capaz de fornecer informações sobre a importância de\n",
    "cada recurso (variável) na classificação das transações como fraude ou não fraude. Essa\n",
    "informação é calculada pelo algoritmo como o ganho médio de impureza fornecido por cada\n",
    "recurso. Quanto maior o ganho de impureza, mais importante é o recurso na classificação.\n",
    "Portanto, para interpretar o modelo treinado e entender quais recursos são mais importantes\n",
    "na detecção de fraudes de cartão de crédito, pode-se acessar o atributo \"feature_importances\"\n",
    "do modelo treinado. Esse atributo fornece um vetor de importâncias de recursos, onde o valor\n",
    "de cada elemento corresponde à importância relativa de um recurso em relação aos demais.\n",
    "Com base nessa informação, é possível identificar quais recursos são os mais relevantes para\n",
    "a detecção de fraudes em transações de cartão de crédito e, com isso, realizar ações como\n",
    "coletar mais informações sobre esses recursos ou ajustar as estratégias de detecção de fraudes\n",
    "com base em insights obtidos a partir da análise das importâncias de recursos."
   ]
  },
  {
   "cell_type": "markdown",
   "id": "f9d897d1",
   "metadata": {},
   "source": [
    "# Comparando os dois modelos"
   ]
  },
  {
   "cell_type": "markdown",
   "id": "2e327877",
   "metadata": {},
   "source": [
    "Os resultados do modelo com dados desbalanceados apresentaram um bom desempenho na detecção de transações normais, com uma precisão e recall de 100%, e um bom desempenho na detecção de transações de fraude, com uma precisão de 97% e recall de 82%. No entanto, o recall da classe 1 mostra que o modelo teve dificuldade em identificar as transações de fraude, o que pode levar a falsos negativos e permitir que transações fraudulentas passem despercebidas.\n",
    "\n",
    "Após a aplicação do SMOTE para balancear os dados, as métricas de classificação melhoraram consideravelmente, com uma precisão, recall e f1-score de 100% para ambas as classes. Isso indica que o modelo é capaz de classificar corretamente tanto as transações normais quanto as transações fraudulentas.\n",
    "\n",
    "A melhoria nas métricas de avaliação é esperada quando há balanceamento de dados, uma vez que a falta de equilíbrio na distribuição das classes pode levar a uma tendência do modelo em classificar todas as instâncias como pertencentes à classe majoritária, prejudicando o desempenho na identificação da classe minoritária.\n",
    "\n",
    "Portanto, a aplicação do SMOTE nesse caso foi uma abordagem válida para melhorar a performance do modelo na detecção de fraudes em transações com cartão de crédito. É importante ressaltar que, mesmo com as métricas de avaliação perfeitas, é necessário realizar outras análises para avaliar o desempenho geral do modelo e garantir a sua eficácia na aplicação prática."
   ]
  },
  {
   "cell_type": "code",
   "execution_count": null,
   "id": "e5286210",
   "metadata": {},
   "outputs": [],
   "source": []
  }
 ],
 "metadata": {
  "kernelspec": {
   "display_name": "Python 3 (ipykernel)",
   "language": "python",
   "name": "python3"
  },
  "language_info": {
   "codemirror_mode": {
    "name": "ipython",
    "version": 3
   },
   "file_extension": ".py",
   "mimetype": "text/x-python",
   "name": "python",
   "nbconvert_exporter": "python",
   "pygments_lexer": "ipython3",
   "version": "3.9.13"
  }
 },
 "nbformat": 4,
 "nbformat_minor": 5
}
